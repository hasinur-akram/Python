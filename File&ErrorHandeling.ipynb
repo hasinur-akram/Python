{
 "cells": [
  {
   "cell_type": "markdown",
   "source": [
    "# File Handeling"
   ],
   "metadata": {}
  },
  {
   "cell_type": "markdown",
   "source": [
    "## Creating & Writing a file"
   ],
   "metadata": {}
  },
  {
   "cell_type": "code",
   "execution_count": 5,
   "source": [
    "file = open(\"file1.txt\", mode=\"w\")\r\n",
    "file.write(\"My Fisrt File\")\r\n",
    "file.close()"
   ],
   "outputs": [],
   "metadata": {}
  },
  {
   "cell_type": "markdown",
   "source": [
    "## Reading file"
   ],
   "metadata": {}
  },
  {
   "cell_type": "code",
   "execution_count": 13,
   "source": [
    "file = open(\"file1.txt\", mode=\"r\")\r\n",
    "data = file.read()\r\n",
    "file.close()\r\n",
    "data"
   ],
   "outputs": [
    {
     "output_type": "execute_result",
     "data": {
      "text/plain": [
       "'My Fisrt File\\nSecond Line\\nMy Fisrt File\\nMy Fisrt File'"
      ]
     },
     "metadata": {},
     "execution_count": 13
    }
   ],
   "metadata": {}
  },
  {
   "cell_type": "code",
   "execution_count": 14,
   "source": [
    "file = open(\"file1.txt\", mode=\"a\")\r\n",
    "file.write(\"\\nMy Fisrt File\")\r\n",
    "file.close()"
   ],
   "outputs": [],
   "metadata": {}
  },
  {
   "cell_type": "code",
   "execution_count": 15,
   "source": [
    "with open(\"file1.txt\", mode=\"r\") as file:\r\n",
    "    data = file.readlines()\r\n",
    "data"
   ],
   "outputs": [
    {
     "output_type": "execute_result",
     "data": {
      "text/plain": [
       "['My Fisrt File\\n',\n",
       " 'Second Line\\n',\n",
       " 'My Fisrt File\\n',\n",
       " 'My Fisrt File\\n',\n",
       " 'My Fisrt File']"
      ]
     },
     "metadata": {},
     "execution_count": 15
    }
   ],
   "metadata": {}
  },
  {
   "cell_type": "markdown",
   "source": [
    "# Error Handeling"
   ],
   "metadata": {}
  },
  {
   "cell_type": "code",
   "execution_count": 17,
   "source": [
    "try:\r\n",
    "    with open(\"file4.txt\", mode=\"r\") as file:\r\n",
    "        lines = file.readlines()\r\n",
    "except FileNotFoundError as e:\r\n",
    "    print(e)\r\n",
    "print(\"Hello\")"
   ],
   "outputs": [
    {
     "output_type": "stream",
     "name": "stdout",
     "text": [
      "[Errno 2] No such file or directory: 'file4.txt'\n",
      "Hello\n"
     ]
    }
   ],
   "metadata": {}
  },
  {
   "cell_type": "code",
   "execution_count": 21,
   "source": [
    "try:\r\n",
    "    with open(\"file4.txt\", mode=\"r\") as file:\r\n",
    "        lines = file.readlines()\r\n",
    "except Exception as e:\r\n",
    "    print(e)\r\n",
    "    print(\"Hello\")"
   ],
   "outputs": [
    {
     "output_type": "stream",
     "name": "stdout",
     "text": [
      "[Errno 2] No such file or directory: 'file4.txt'\n",
      "Hello\n"
     ]
    }
   ],
   "metadata": {}
  },
  {
   "cell_type": "code",
   "execution_count": 29,
   "source": [
    "try:\r\n",
    "    file = open(\"file4.txt\", mode=\"a\")\r\n",
    "    file.write(\"\\nSecond Line\")\r\n",
    "    file.close()\r\n",
    "except FileNotFoundError as e:\r\n",
    "    print(e)\r\n",
    "    with open(\"file4.txt\", mode=\"r\") as file:\r\n",
    "        lines = file.readlines()\r\n",
    "finally:\r\n",
    "    file.close()\r\n",
    "    print(\"Done\")\r\n",
    "print(\"Hello\")"
   ],
   "outputs": [
    {
     "output_type": "stream",
     "name": "stdout",
     "text": [
      "Done\n",
      "Hello\n"
     ]
    }
   ],
   "metadata": {}
  },
  {
   "cell_type": "code",
   "execution_count": 30,
   "source": [
    "try:\r\n",
    "    file = open(\"file4.txt\", mode=\"a\")\r\n",
    "    file.write(\"\\nSecond Line\")\r\n",
    "    file.close()\r\n",
    "except FileNotFoundError as e:\r\n",
    "    print(e)\r\n",
    "    with open(\"file4.txt\", mode=\"r\") as file:\r\n",
    "        lines = file.readlines()\r\n",
    "finally:\r\n",
    "    file.close()\r\n",
    "    print(\"Done\")    \r\n",
    "print(\"Hello!\")"
   ],
   "outputs": [
    {
     "output_type": "stream",
     "name": "stdout",
     "text": [
      "Done\n",
      "Hello!\n"
     ]
    }
   ],
   "metadata": {}
  }
 ],
 "metadata": {
  "orig_nbformat": 4,
  "language_info": {
   "name": "python",
   "version": "3.9.7",
   "mimetype": "text/x-python",
   "codemirror_mode": {
    "name": "ipython",
    "version": 3
   },
   "pygments_lexer": "ipython3",
   "nbconvert_exporter": "python",
   "file_extension": ".py"
  },
  "kernelspec": {
   "name": "python3",
   "display_name": "Python 3.9.7 64-bit"
  },
  "interpreter": {
   "hash": "9aaa1ab1202118063e00d2005169fdaf25a41351579761e07335c51f4a55e7ee"
  }
 },
 "nbformat": 4,
 "nbformat_minor": 2
}