{
 "cells": [
  {
   "cell_type": "markdown",
   "source": [
    "# Function Defination"
   ],
   "metadata": {}
  },
  {
   "cell_type": "code",
   "execution_count": 1,
   "source": [
    "def welcome():\r\n",
    "    print(\"Welcome!\")"
   ],
   "outputs": [],
   "metadata": {}
  },
  {
   "cell_type": "markdown",
   "source": [
    "# Function Calling"
   ],
   "metadata": {}
  },
  {
   "cell_type": "code",
   "execution_count": 3,
   "source": [
    "welcome()"
   ],
   "outputs": [
    {
     "output_type": "stream",
     "name": "stdout",
     "text": [
      "Welcome!\n"
     ]
    }
   ],
   "metadata": {}
  },
  {
   "cell_type": "markdown",
   "source": [
    "# Function with arguments"
   ],
   "metadata": {}
  },
  {
   "cell_type": "code",
   "execution_count": 6,
   "source": [
    "def welcome(name,age):\r\n",
    "    print(\"Welcome \"+name)\r\n",
    "    print(\"You are age is \",age)"
   ],
   "outputs": [],
   "metadata": {}
  },
  {
   "cell_type": "code",
   "execution_count": 7,
   "source": [
    "welcome(\"Hasinur\",38)"
   ],
   "outputs": [
    {
     "output_type": "stream",
     "name": "stdout",
     "text": [
      "Welcome Hasinur\n",
      "You are age is  38\n"
     ]
    }
   ],
   "metadata": {}
  },
  {
   "cell_type": "markdown",
   "source": [
    "# Keyword arguments"
   ],
   "metadata": {}
  },
  {
   "cell_type": "code",
   "execution_count": 10,
   "source": [
    "def welcome(name, age=18):\r\n",
    "    print(\"Welcome \",name)\r\n",
    "    print(\"you are age is \",age)\r\n",
    "    print(\"How are You?\")"
   ],
   "outputs": [],
   "metadata": {}
  },
  {
   "cell_type": "code",
   "execution_count": 11,
   "source": [
    "welcome(\"Hasinur\")"
   ],
   "outputs": [
    {
     "output_type": "stream",
     "name": "stdout",
     "text": [
      "Welcome  Hasinur\n",
      "you are age is  18\n",
      "How are You?\n"
     ]
    }
   ],
   "metadata": {}
  },
  {
   "cell_type": "code",
   "execution_count": 38,
   "source": [
    "def welcome(name, title=\"Mr/Mrs\", age=18):\r\n",
    "    print(\"Welcome \",title, name,'\\n' \"you are age is \",age, '\\n' \"How are You?\")"
   ],
   "outputs": [],
   "metadata": {}
  },
  {
   "cell_type": "code",
   "execution_count": 39,
   "source": [
    "welcome(\"Hasinur\")"
   ],
   "outputs": [
    {
     "output_type": "stream",
     "name": "stdout",
     "text": [
      "Welcome  Mr/Mrs Hasinur \n",
      "you are age is  18 \n",
      "How are You?\n"
     ]
    }
   ],
   "metadata": {}
  },
  {
   "cell_type": "code",
   "execution_count": 32,
   "source": [
    "def welcome(name, title=\"Mr/Mrs\", age=18):\r\n",
    "    print(f\"Welcome {title} {name}! \\n your age is {age} \\n How are You?\")"
   ],
   "outputs": [],
   "metadata": {}
  },
  {
   "cell_type": "code",
   "execution_count": 33,
   "source": [
    "welcome(\"Hasinur\")"
   ],
   "outputs": [
    {
     "output_type": "stream",
     "name": "stdout",
     "text": [
      "Welcome Mr/Mrs Hasinur! \n",
      " your age is 18 \n",
      " How are You?\n"
     ]
    }
   ],
   "metadata": {}
  },
  {
   "cell_type": "markdown",
   "source": [
    "# Iterable arguments"
   ],
   "metadata": {}
  },
  {
   "cell_type": "code",
   "execution_count": 55,
   "source": [
    "def welcome(names):\r\n",
    "    for name in (names):\r\n",
    "        print(f\"Welcome {name}!\")"
   ],
   "outputs": [],
   "metadata": {}
  },
  {
   "cell_type": "code",
   "execution_count": 57,
   "source": [
    "welcome([\"Hasinur\", \"Minara\", \"Akida\", \"Bajro\"])"
   ],
   "outputs": [
    {
     "output_type": "stream",
     "name": "stdout",
     "text": [
      "Welcome Hasinur!\n",
      "Welcome Minara!\n",
      "Welcome Akida!\n",
      "Welcome Bajro!\n"
     ]
    }
   ],
   "metadata": {}
  },
  {
   "cell_type": "markdown",
   "source": [
    "# Dynamic arguments"
   ],
   "metadata": {}
  },
  {
   "cell_type": "code",
   "execution_count": 65,
   "source": [
    "def welcome(*names):\r\n",
    "    for name in (names):\r\n",
    "        print(f\"Welcome {name}\")"
   ],
   "outputs": [],
   "metadata": {}
  },
  {
   "cell_type": "code",
   "execution_count": 66,
   "source": [
    "welcome(\"Hasinur\", \"Minara\", \"Akida\", \"Bajro\")"
   ],
   "outputs": [
    {
     "output_type": "stream",
     "name": "stdout",
     "text": [
      "Welcome Hasinur\n",
      "Welcome Minara\n",
      "Welcome Akida\n",
      "Welcome Bajro\n"
     ]
    }
   ],
   "metadata": {}
  },
  {
   "cell_type": "code",
   "execution_count": 3,
   "source": [
    "def create_new_account(name, age, gender):\r\n",
    "    print(\"Your Account Created Successfully\")\r\n",
    "    print(f\"Name: {name} '\\n Age: {age} \\n Gender: {gender}\")"
   ],
   "outputs": [],
   "metadata": {}
  },
  {
   "cell_type": "code",
   "execution_count": 4,
   "source": [
    "create_new_account(\"Hasinur\", 38, \"Male\")"
   ],
   "outputs": [
    {
     "output_type": "stream",
     "name": "stdout",
     "text": [
      "Your Account Created Successfully\n",
      "Name: Hasinur '\n",
      " Age: 38 \n",
      " Gender: Male\n"
     ]
    }
   ],
   "metadata": {}
  },
  {
   "cell_type": "code",
   "execution_count": 5,
   "source": [
    "create_new_account(\"Minara\", 30, \"Female\")"
   ],
   "outputs": [
    {
     "output_type": "stream",
     "name": "stdout",
     "text": [
      "Your Account Created Successfully\n",
      "Name: Minara '\n",
      " Age: 30 \n",
      " Gender: Female\n"
     ]
    }
   ],
   "metadata": {}
  },
  {
   "cell_type": "code",
   "execution_count": 34,
   "source": [
    "def create_new_account(names, ages, genders):\r\n",
    "    for name,age,gender in zip(names,ages,genders):\r\n",
    "        print(f\"Congratulations {name}! Your Account Created Successfully!\")\r\n",
    "        print(f\"Name: {name} \\n Age: {age} \\n Gender: {gender} \\n\")"
   ],
   "outputs": [],
   "metadata": {}
  },
  {
   "cell_type": "code",
   "execution_count": 35,
   "source": [
    "create_new_account((\"Hasinur\",\"Minara\",\"Akida\",\"Shurakah\"), (38,30,9,7), (\"Male\",\"Female\",\"Female\",\"Male\"))"
   ],
   "outputs": [
    {
     "output_type": "stream",
     "name": "stdout",
     "text": [
      "Congratulations Hasinur! Your Account Created Successfully!\n",
      "Name: Hasinur \n",
      " Age: 38 \n",
      " Gender: Male \n",
      "\n",
      "Congratulations Minara! Your Account Created Successfully!\n",
      "Name: Minara \n",
      " Age: 30 \n",
      " Gender: Female \n",
      "\n",
      "Congratulations Akida! Your Account Created Successfully!\n",
      "Name: Akida \n",
      " Age: 9 \n",
      " Gender: Female \n",
      "\n",
      "Congratulations Shurakah! Your Account Created Successfully!\n",
      "Name: Shurakah \n",
      " Age: 7 \n",
      " Gender: Male \n",
      "\n"
     ]
    }
   ],
   "metadata": {}
  },
  {
   "cell_type": "markdown",
   "source": [
    "# Small programme\r\n",
    "## Door Open"
   ],
   "metadata": {}
  },
  {
   "cell_type": "code",
   "execution_count": 48,
   "source": [
    "doorPassward = \"opendoor@2021\"\r\n",
    "\r\n",
    "maxx = 3\r\n",
    "numOfTry = 1\r\n",
    "while numOfTry <= maxx:\r\n",
    "    enterPassward = input(\"Enter your passward: \")\r\n",
    "    if enterPassward == doorPassward:\r\n",
    "        print(\"Door Opened!\")\r\n",
    "        break\r\n",
    "    else:\r\n",
    "        print(\"Wrong password, Please Try again\")\r\n",
    "        numOfTry = numOfTry + 1\r\n",
    "        if numOfTry > maxx:\r\n",
    "            print(\"Door Locked!\")\r\n",
    "        "
   ],
   "outputs": [
    {
     "output_type": "stream",
     "name": "stdout",
     "text": [
      "Wrong password, Please Try again\n",
      "Wrong password, Please Try again\n",
      "Wrong password, Please Try again\n",
      "Door Locked!\n"
     ]
    }
   ],
   "metadata": {}
  },
  {
   "cell_type": "code",
   "execution_count": null,
   "source": [],
   "outputs": [],
   "metadata": {}
  }
 ],
 "metadata": {
  "orig_nbformat": 4,
  "language_info": {
   "name": "python",
   "version": "3.9.7",
   "mimetype": "text/x-python",
   "codemirror_mode": {
    "name": "ipython",
    "version": 3
   },
   "pygments_lexer": "ipython3",
   "nbconvert_exporter": "python",
   "file_extension": ".py"
  },
  "kernelspec": {
   "name": "python3",
   "display_name": "Python 3.9.7 64-bit"
  },
  "interpreter": {
   "hash": "9aaa1ab1202118063e00d2005169fdaf25a41351579761e07335c51f4a55e7ee"
  }
 },
 "nbformat": 4,
 "nbformat_minor": 2
}